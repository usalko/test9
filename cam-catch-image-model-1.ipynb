{
 "cells": [
  {
   "cell_type": "markdown",
   "metadata": {},
   "source": [
    "# The mathematical model for digital camera catch image process\n",
    "\n",
    "The main goal describe process in mathematical terms for ability to correct description for reverse transformation from digital form to real object."
   ]
  },
  {
   "cell_type": "markdown",
   "metadata": {},
   "source": [
    "draft:\n",
    "\n",
    "Let $X$ image field for optical projection. Assuming that field has rectangular form with dimension $D$, pair of integer numbers $max(w),max(h)$\n",
    "Real object optical projection describes of two functions $b(w, h)$ and $c(w, h)$. The physical process show in picture 1 <img src=\"cam-catch-image-model-1-picture-1.svg\" width=\"400\" height=\"400\" role=\"img\" style=\"float: left; margin-right: 10px;\"/>. The function $b$ describes photons flux in point $(w, h)$, $w$ and $h$ is float values $0 \\leq w \\leq max(w) \\in R$ and $0 \\leq h \\leq max(h) \\in R$ accordingly. The value of b lay in a range $[0, 1] \\in R$. A \"color\" function $c$ describes spectral distribution of photons in point $(w, h)$."
   ]
  },
  {
   "cell_type": "markdown",
   "metadata": {},
   "source": [
    "draft:\n",
    "\n",
    "The cam catch image process translate real (float) coordinates to integer coordinates and do sum of photon flux in (square or round pixels). Schema of this translation (digital operator $D$) represent in picture 2 <img src=\"cam-catch-image-model-1-picture-2.svg\" width=\"400\" height=\"400\" role=\"img\" style=\"float: left; margin-right: 10px;\"/>."
   ]
  },
  {
   "cell_type": "code",
   "execution_count": null,
   "metadata": {
    "vscode": {
     "languageId": "plaintext"
    }
   },
   "outputs": [],
   "source": [
    "draft:\n",
    "\n",
    "Notes: a main question, does bezier(casteljau) form parametrization is uniform (equidistant by t parameter)\n",
    "Notes: color model RGB based on human brain interpretation of spectral distribution. The model apply three different filter for disassembling dominant frequency in point $(W, h)$ to linear combination of three \"basic\" color values."
   ]
  },
  {
   "cell_type": "code",
   "execution_count": null,
   "metadata": {
    "vscode": {
     "languageId": "plaintext"
    }
   },
   "outputs": [],
   "source": [
    "# Check hypothesis about equidistant mapping for Bezier curve parametrization.\n",
    "\n",
    "def de_casteljau(pointst: float, coefs: list[float]) -> float:\n",
    "    \"\"\"De Casteljau's algorithm.\"\"\"\n",
    "    beta = coefs.copy()  # values in this list are overridden\n",
    "    n = len(beta)\n",
    "    for j in range(1, n):\n",
    "        for k in range(n - j):\n",
    "            beta[k] = beta[k] * (1 - t) + beta[k + 1] * t\n",
    "    return beta[0]\n",
    "\n",
    "# Binomial coefficients (n choose b)\n"
   ]
  }
 ],
 "metadata": {
  "language_info": {
   "name": "python"
  }
 },
 "nbformat": 4,
 "nbformat_minor": 2
}
