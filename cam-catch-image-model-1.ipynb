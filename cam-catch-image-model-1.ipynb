{
 "cells": [
  {
   "cell_type": "markdown",
   "metadata": {},
   "source": [
    "# The mathematical model for digital camera catch image process\n",
    "\n",
    "The main goal describe process in mathematical terms for ability to correct description for reverse transformation from digital form to real object."
   ]
  },
  {
   "cell_type": "markdown",
   "metadata": {},
   "source": [
    "draft:\n",
    "\n",
    "Let $X$ image field for optical projection. Assuming that field has rectangular form with dimension $D$, pair of integer numbers $max(w),max(h)$\n",
    "Real object optical projection describes of two functions $b(w, h)$ and $c(w, h)$. The physical process show in picture 1 <img src=\"cam-catch-image-model-1-picture-1.svg\" width=\"400\" height=\"400\" role=\"img\" style=\"float: left; margin-right: 10px;\"/>. The function $b$ describes photons flux in point $(w, h)$, $w$ and $h$ is float values $0 \\leq w \\leq max(w) \\in R$ and $0 \\leq h \\leq max(h) \\in R$ accordingly. The value of b lay in a range $[0, 1] \\in R$. A \"color\" function $c$ describes spectral distribution of photons in point $(w, h)$."
   ]
  },
  {
   "cell_type": "markdown",
   "metadata": {},
   "source": [
    "draft:\n",
    "\n",
    "The cam catch image process translate real (float) coordinates to integer coordinates and do sum of photon flux in (square or round pixels). Schema of this translation (digital operator $D$) represent in picture 2 <img src=\"cam-catch-image-model-1-picture-2.svg\" width=\"400\" height=\"400\" role=\"img\" style=\"float: left; margin-right: 10px;\"/>."
   ]
  },
  {
   "cell_type": "code",
   "execution_count": null,
   "metadata": {
    "vscode": {
     "languageId": "plaintext"
    }
   },
   "outputs": [],
   "source": [
    "draft:\n",
    "\n",
    "Notes: color model RGB based on human brain interpretation of spectral distribution. The model apply three different filter for disassembling dominant frequency in point $(W, h)$ to linear combination of three \"basic\" color values."
   ]
  }
 ],
 "metadata": {
  "language_info": {
   "name": "python"
  }
 },
 "nbformat": 4,
 "nbformat_minor": 2
}
